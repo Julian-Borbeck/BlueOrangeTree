{
 "cells": [
  {
   "cell_type": "code",
   "execution_count": 1,
   "metadata": {},
   "outputs": [],
   "source": [
    "## 2,4 Btree data structure\n",
    "class Btree:\n",
    "    def __init__(self, keys, children):\n",
    "        self.keys = keys\n",
    "        self.children = children"
   ]
  },
  {
   "cell_type": "code",
   "execution_count": 2,
   "metadata": {},
   "outputs": [],
   "source": [
    "## Blue Orange Tree data structure\n",
    "class BOT:\n",
    "    def __init__(self, color, leftChild, rightChild, parent, value):\n",
    "        self.color = color\n",
    "        self.leftChild = leftChild\n",
    "        self.rightChild = rightChild\n",
    "        self.parent = parent\n",
    "        self.value = value"
   ]
  },
  {
   "cell_type": "code",
   "execution_count": 3,
   "metadata": {},
   "outputs": [],
   "source": [
    "def recursive2Bot(Btree, parent):\n",
    "    \n",
    "    children = Btree.children\n",
    "    \n",
    "    \n",
    "    if len(children) == 0:\n",
    "        node = BOT(\"blue\", None, None, parent, Btree.keys[0])\n",
    "        \n",
    "        return node\n",
    "    if(len(children) == 2):\n",
    "        node = BOT(\"blue\", None, None, parent, Btree.keys[0])\n",
    "        node.leftChild = recursive2Bot(Btree.children[0], node)\n",
    "        node.rightChild = recursive2Bot(Btree.children[1], node)\n",
    "        \n",
    "        return node\n",
    "    if(len(children) == 3):\n",
    "        rightElement = BOT(\"blue\", None, None, parent, Btree.keys[1])\n",
    "        leftElement = BOT(\"orange\", None, None, rightElement, Btree.keys[0])\n",
    "        leftElement.leftChild = recursive2Bot(Btree.children[0], leftElement)\n",
    "        leftElement.rightChild = recursive2Bot(Btree.children[1], leftElement)\n",
    "        \n",
    "        rightElement.leftChild = leftElement\n",
    "        rightElement.rightChild = recursive2Bot(Btree.children[2], rightElement)\n",
    "        \n",
    "        return rightElement\n",
    "    if(len(children) == 4):\n",
    "        \n",
    "        middleElement = BOT(\"blue\", None, None, parent, Btree.keys[1])\n",
    "        \n",
    "        leftElement = BOT(\"orange\", None, None, middleElement, Btree.keys[0])\n",
    "        \n",
    "        rightElement = BOT(\"orange\", None, None, middleElement, Btree.keys[2])\n",
    "        \n",
    "        middleElement.leftChild = leftElement\n",
    "        middleElement.rightChild = rightElement\n",
    "        \n",
    "        leftElement.leftChild = recursive2Bot(Btree.children[0], leftElement)\n",
    "        leftElement.rightChild = recursive2Bot(Btree.children[1], leftElement)\n",
    "        \n",
    "        rightElement.leftChild = recursive2Bot(Btree.children[2], rightElement)\n",
    "        rightElement.rightChild = recursive2Bot(Btree.children[3], rightElement)\n",
    "        \n",
    "        return middleElement"
   ]
  },
  {
   "cell_type": "code",
   "execution_count": 4,
   "metadata": {},
   "outputs": [],
   "source": [
    "emptyTree = Btree([None],[])"
   ]
  },
  {
   "cell_type": "code",
   "execution_count": 5,
   "metadata": {},
   "outputs": [],
   "source": [
    "subtree1 = Btree([5,10],[emptyTree, emptyTree, emptyTree])\n",
    "subtree2 = Btree([20,25,30],[emptyTree, emptyTree, emptyTree, emptyTree])\n",
    "subtree3 = Btree([40,45], [emptyTree, emptyTree, emptyTree])"
   ]
  },
  {
   "cell_type": "code",
   "execution_count": 6,
   "metadata": {},
   "outputs": [],
   "source": [
    "treeA = Btree([15,35],[subtree1, subtree2, subtree3])"
   ]
  },
  {
   "cell_type": "code",
   "execution_count": 7,
   "metadata": {},
   "outputs": [],
   "source": [
    "BOTA = recursive2Bot(treeA, None)"
   ]
  },
  {
   "cell_type": "code",
   "execution_count": 8,
   "metadata": {},
   "outputs": [],
   "source": [
    "def printTree(BOT, level=0):\n",
    "    print(\"  \" * level, BOT.color, BOT.value)\n",
    "    if(BOT.leftChild != None):\n",
    "        printTree(BOT.leftChild, level + 1)\n",
    "    if(BOT.rightChild != None):\n",
    "        printTree(BOT.rightChild, level + 1)"
   ]
  },
  {
   "cell_type": "code",
   "execution_count": 9,
   "metadata": {},
   "outputs": [
    {
     "name": "stdout",
     "output_type": "stream",
     "text": [
      " blue 35\n",
      "   orange 15\n",
      "     blue 10\n",
      "       orange 5\n",
      "         blue None\n",
      "         blue None\n",
      "       blue None\n",
      "     blue 25\n",
      "       orange 20\n",
      "         blue None\n",
      "         blue None\n",
      "       orange 30\n",
      "         blue None\n",
      "         blue None\n",
      "   blue 45\n",
      "     orange 40\n",
      "       blue None\n",
      "       blue None\n",
      "     blue None\n"
     ]
    }
   ],
   "source": [
    "printTree(BOTA)"
   ]
  },
  {
   "cell_type": "code",
   "execution_count": 10,
   "metadata": {},
   "outputs": [],
   "source": [
    "subtree1prime = Btree([5,10,12],[emptyTree, emptyTree, emptyTree, emptyTree])\n",
    "subtree3prime = Btree([37,40,45],[emptyTree, emptyTree, emptyTree, emptyTree])"
   ]
  },
  {
   "cell_type": "code",
   "execution_count": 11,
   "metadata": {},
   "outputs": [],
   "source": [
    "treeB = Btree([15,35],[subtree1prime, subtree2, subtree3prime])"
   ]
  },
  {
   "cell_type": "code",
   "execution_count": 12,
   "metadata": {},
   "outputs": [],
   "source": [
    "BOTB = recursive2Bot(treeB, None)"
   ]
  },
  {
   "cell_type": "code",
   "execution_count": 13,
   "metadata": {},
   "outputs": [
    {
     "name": "stdout",
     "output_type": "stream",
     "text": [
      " blue 35\n",
      "   orange 15\n",
      "     blue 10\n",
      "       orange 5\n",
      "         blue None\n",
      "         blue None\n",
      "       orange 12\n",
      "         blue None\n",
      "         blue None\n",
      "     blue 25\n",
      "       orange 20\n",
      "         blue None\n",
      "         blue None\n",
      "       orange 30\n",
      "         blue None\n",
      "         blue None\n",
      "   blue 40\n",
      "     orange 37\n",
      "       blue None\n",
      "       blue None\n",
      "     orange 45\n",
      "       blue None\n",
      "       blue None\n"
     ]
    }
   ],
   "source": [
    "printTree(BOTB)"
   ]
  },
  {
   "cell_type": "code",
   "execution_count": null,
   "metadata": {},
   "outputs": [],
   "source": []
  }
 ],
 "metadata": {
  "kernelspec": {
   "display_name": "Python 3",
   "language": "python",
   "name": "python3"
  },
  "language_info": {
   "codemirror_mode": {
    "name": "ipython",
    "version": 3
   },
   "file_extension": ".py",
   "mimetype": "text/x-python",
   "name": "python",
   "nbconvert_exporter": "python",
   "pygments_lexer": "ipython3",
   "version": "3.8.5"
  }
 },
 "nbformat": 4,
 "nbformat_minor": 4
}
